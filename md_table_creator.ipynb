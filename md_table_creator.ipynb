{
 "cells": [
  {
   "cell_type": "code",
   "execution_count": 1,
   "metadata": {},
   "outputs": [
    {
     "name": "stdout",
     "output_type": "stream",
     "text": [
      "<class 'pandas.core.frame.DataFrame'>\n",
      "RangeIndex: 100 entries, 0 to 99\n",
      "Data columns (total 5 columns):\n",
      " #   Column          Non-Null Count  Dtype \n",
      "---  ------          --------------  ----- \n",
      " 0   Rank            100 non-null    int64 \n",
      " 1   Website         100 non-null    object\n",
      " 2   Search traffic  100 non-null    object\n",
      " 3   robots          95 non-null     object\n",
      " 4   agents          100 non-null    object\n",
      "dtypes: int64(1), object(4)\n",
      "memory usage: 4.0+ KB\n"
     ]
    }
   ],
   "source": [
    "import pandas as pd\n",
    "\n",
    "df = pd.read_csv(\"data/robots_txt_2025-02-14_agents.csv\")\n",
    "df.drop(columns=['Unnamed: 0.1', 'Unnamed: 0', 'Unnamed: 1', 'Unnamed: 3', 'Unnamed: 5'], inplace=True)\n",
    "\n",
    "df.info()"
   ]
  },
  {
   "cell_type": "code",
   "execution_count": 2,
   "metadata": {},
   "outputs": [
    {
     "data": {
      "text/html": [
       "<div>\n",
       "<style scoped>\n",
       "    .dataframe tbody tr th:only-of-type {\n",
       "        vertical-align: middle;\n",
       "    }\n",
       "\n",
       "    .dataframe tbody tr th {\n",
       "        vertical-align: top;\n",
       "    }\n",
       "\n",
       "    .dataframe thead th {\n",
       "        text-align: right;\n",
       "    }\n",
       "</style>\n",
       "<table border=\"1\" class=\"dataframe\">\n",
       "  <thead>\n",
       "    <tr style=\"text-align: right;\">\n",
       "      <th></th>\n",
       "      <th>Rank</th>\n",
       "      <th>Website</th>\n",
       "      <th>Search traffic</th>\n",
       "      <th>robots</th>\n",
       "      <th>agents</th>\n",
       "    </tr>\n",
       "  </thead>\n",
       "  <tbody>\n",
       "    <tr>\n",
       "      <th>0</th>\n",
       "      <td>1</td>\n",
       "      <td>yahoo.co.jp</td>\n",
       "      <td>245M</td>\n",
       "      <td>NaN</td>\n",
       "      <td>None.</td>\n",
       "    </tr>\n",
       "    <tr>\n",
       "      <th>18</th>\n",
       "      <td>19</td>\n",
       "      <td>usatoday.com</td>\n",
       "      <td>46M</td>\n",
       "      <td>NaN</td>\n",
       "      <td>None.</td>\n",
       "    </tr>\n",
       "    <tr>\n",
       "      <th>24</th>\n",
       "      <td>25</td>\n",
       "      <td>indianexpress.com</td>\n",
       "      <td>41M</td>\n",
       "      <td>NaN</td>\n",
       "      <td>None.</td>\n",
       "    </tr>\n",
       "    <tr>\n",
       "      <th>35</th>\n",
       "      <td>36</td>\n",
       "      <td>news.yahoo.com</td>\n",
       "      <td>27M</td>\n",
       "      <td>NaN</td>\n",
       "      <td>None.</td>\n",
       "    </tr>\n",
       "    <tr>\n",
       "      <th>76</th>\n",
       "      <td>77</td>\n",
       "      <td>business-standard.com</td>\n",
       "      <td>15M</td>\n",
       "      <td>NaN</td>\n",
       "      <td>I'm sorry, but there are no LLM agent names in...</td>\n",
       "    </tr>\n",
       "  </tbody>\n",
       "</table>\n",
       "</div>"
      ],
      "text/plain": [
       "    Rank                Website Search traffic robots   \n",
       "0      1            yahoo.co.jp           245M    NaN  \\\n",
       "18    19           usatoday.com            46M    NaN   \n",
       "24    25      indianexpress.com            41M    NaN   \n",
       "35    36         news.yahoo.com            27M    NaN   \n",
       "76    77  business-standard.com            15M    NaN   \n",
       "\n",
       "                                               agents  \n",
       "0                                               None.  \n",
       "18                                              None.  \n",
       "24                                              None.  \n",
       "35                                              None.  \n",
       "76  I'm sorry, but there are no LLM agent names in...  "
      ]
     },
     "execution_count": 2,
     "metadata": {},
     "output_type": "execute_result"
    }
   ],
   "source": [
    "df[df['robots'].isna()]"
   ]
  },
  {
   "cell_type": "code",
   "execution_count": 3,
   "metadata": {},
   "outputs": [],
   "source": [
    "df = df[df['robots'].notnull()]\n",
    "md = df.drop(columns=['robots'])\n",
    "markdown_table = md.to_markdown(index=False)\n",
    "\n",
    "with open(\"robots_restictions_table.md\", \"w\") as file:\n",
    "    file.write(markdown_table)"
   ]
  }
 ],
 "metadata": {
  "kernelspec": {
   "display_name": "task_env",
   "language": "python",
   "name": "python3"
  },
  "language_info": {
   "codemirror_mode": {
    "name": "ipython",
    "version": 3
   },
   "file_extension": ".py",
   "mimetype": "text/x-python",
   "name": "python",
   "nbconvert_exporter": "python",
   "pygments_lexer": "ipython3",
   "version": "3.11.2"
  }
 },
 "nbformat": 4,
 "nbformat_minor": 2
}

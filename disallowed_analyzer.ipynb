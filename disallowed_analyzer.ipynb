{
 "cells": [
  {
   "cell_type": "code",
   "execution_count": 1,
   "metadata": {},
   "outputs": [],
   "source": [
    "import pandas as pd\n",
    "from tqdm import tqdm\n",
    "from datetime import date"
   ]
  },
  {
   "cell_type": "code",
   "execution_count": 42,
   "metadata": {},
   "outputs": [],
   "source": [
    "input_file = '../data/march_2025/disallowed_bots.csv'\n",
    "list_file = '../list_ai.txt'"
   ]
  },
  {
   "cell_type": "code",
   "execution_count": 49,
   "metadata": {},
   "outputs": [],
   "source": [
    "raw_file = pd.read_csv(input_file)\n",
    "list_ai = pd.read_table(list_file, header = None)"
   ]
  },
  {
   "cell_type": "code",
   "execution_count": 50,
   "metadata": {},
   "outputs": [],
   "source": [
    "raw_file['ai'] = int(0)\n",
    "for _, i in enumerate(raw_file['Disallowed Bot']):\n",
    "    if i in list(list_ai[0]):\n",
    "        raw_file.at[_, 'ai'] = int(1)"
   ]
  },
  {
   "cell_type": "code",
   "execution_count": 55,
   "metadata": {},
   "outputs": [
    {
     "name": "stdout",
     "output_type": "stream",
     "text": [
      "Total unique websites: 64\n",
      "Websites with ≥1 AI bot disallowed: 53\n",
      "Percentage: 82.81%\n"
     ]
    }
   ],
   "source": [
    "# 1. Total unique websites\n",
    "total_websites = raw_file['Website'].nunique()\n",
    "\n",
    "# 2. Websites with at least one AI bot disallowed\n",
    "websites_with_ai = raw_file[raw_file['ai'] == 1]['Website'].nunique()\n",
    "\n",
    "# 3. Results\n",
    "print(f\"Total unique websites: {total_websites}\")\n",
    "print(f\"Websites with ≥1 AI bot disallowed: {websites_with_ai}\")\n",
    "print(f\"Percentage: {(websites_with_ai / total_websites) * 100:.2f}%\")"
   ]
  },
  {
   "cell_type": "code",
   "execution_count": 56,
   "metadata": {},
   "outputs": [
    {
     "name": "stdout",
     "output_type": "stream",
     "text": [
      "Top 10 Disallowed AI Bots:\n",
      " Disallowed Bot\n",
      "GPTBot             46\n",
      "CCBot              36\n",
      "anthropic-ai       30\n",
      "ChatGPT-User       29\n",
      "Google-Extended    27\n",
      "Claude-Web         25\n",
      "Bytespider         24\n",
      "ClaudeBot          24\n",
      "cohere-ai          22\n",
      "PerplexityBot      18\n",
      "Name: count, dtype: int64\n"
     ]
    }
   ],
   "source": [
    "top_ai_bots = raw_file[raw_file['ai'] == 1]['Disallowed Bot'].value_counts().head(10)\n",
    "print(\"Top 10 Disallowed AI Bots:\\n\", top_ai_bots)"
   ]
  },
  {
   "cell_type": "code",
   "execution_count": 57,
   "metadata": {},
   "outputs": [
    {
     "name": "stdout",
     "output_type": "stream",
     "text": [
      "Top 10 Websites by AI Bot Disallowances:\n",
      " Website\n",
      "nypost.com       23\n",
      "iltalehti.fi     22\n",
      "nytimes.com      22\n",
      "aol.com          20\n",
      "yahoo.com        20\n",
      "nbcnews.com      19\n",
      "usnews.com       16\n",
      "amarujala.com    16\n",
      "nikkei.com       15\n",
      "news18.com       15\n",
      "Name: count, dtype: int64\n"
     ]
    }
   ],
   "source": [
    "top_websites_ai = raw_file[raw_file['ai'] == 1]['Website'].value_counts().head(10)\n",
    "print(\"Top 10 Websites by AI Bot Disallowances:\\n\", top_websites_ai)"
   ]
  },
  {
   "cell_type": "code",
   "execution_count": 58,
   "metadata": {},
   "outputs": [
    {
     "name": "stdout",
     "output_type": "stream",
     "text": [
      "AI bots: 432/1332 (32.4% of all disallowed bots)\n"
     ]
    }
   ],
   "source": [
    "total_bots = len(raw_file)\n",
    "ai_bots = raw_file['ai'].sum()\n",
    "ai_share = ai_bots / total_bots * 100\n",
    "\n",
    "print(f\"AI bots: {ai_bots}/{total_bots} ({ai_share:.1f}% of all disallowed bots)\")"
   ]
  }
 ],
 "metadata": {
  "kernelspec": {
   "display_name": "task_env",
   "language": "python",
   "name": "python3"
  },
  "language_info": {
   "codemirror_mode": {
    "name": "ipython",
    "version": 3
   },
   "file_extension": ".py",
   "mimetype": "text/x-python",
   "name": "python",
   "nbconvert_exporter": "python",
   "pygments_lexer": "ipython3",
   "version": "3.11.2"
  }
 },
 "nbformat": 4,
 "nbformat_minor": 2
}
